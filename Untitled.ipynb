{
 "cells": [
  {
   "cell_type": "code",
   "execution_count": 63,
   "metadata": {},
   "outputs": [
    {
     "name": "stdout",
     "output_type": "stream",
     "text": [
      "{'boxes': array([[ array([[ (array([[ 277.17641528,  392.31264669]]), array([[ 296.94449976,  410.70348234]]), array([[ 316.85334049,  389.30371276]]), array([[ 297.08525601,  370.9128771 ]]), array([u'L'],\n",
      "      dtype='<U1'), array([], shape=(0, 0), dtype=uint8))]],\n",
      "      dtype=[('a', 'O'), ('b', 'O'), ('c', 'O'), ('d', 'O'), ('handtype', 'O'), ('truncated', 'O')]),\n",
      "        array([[ (array([[ 172.31843252,  216.90699639]]), array([[ 166.50836487,  232.88332619]]), array([[ 189.7926786 ,  241.35106813]]), array([[ 195.60274624,  225.37473832]]), array([u'R'],\n",
      "      dtype='<U1'), array([], shape=(0, 0), dtype=uint8))]],\n",
      "      dtype=[('a', 'O'), ('b', 'O'), ('c', 'O'), ('d', 'O'), ('handtype', 'O'), ('truncated', 'O')])]], dtype=object), '__version__': '1.0', '__header__': 'MATLAB 5.0 MAT-file, Platform: MACI, Created on: Mon Jul 18 18:25:50 2011', '__globals__': []}\n"
     ]
    }
   ],
   "source": [
    "from scipy.io import loadmat\n",
    "import os\n",
    "import cv2\n",
    "import numpy as np\n",
    "mat = loadmat(\"1.mat\")\n",
    "\n",
    "print(mat)"
   ]
  },
  {
   "cell_type": "code",
   "execution_count": 74,
   "metadata": {},
   "outputs": [],
   "source": [
    "x, y = [], []\n",
    "\n",
    "PATH = \"./test_dataset/test_data/\"\n",
    "\n",
    "list_of_imgs = os.listdir(PATH + \"images\")\n",
    "\n",
    "for image in list_of_imgs:\n",
    "    if image[-3:] != \"jpg\": continue\n",
    "    \n",
    "    img = cv2.imread(PATH+\"images/\"+image)\n",
    "    mat = loadmat(PATH+\"annotations/\"+image[:-3]+\"mat\")\n",
    "    \n",
    "    hands_in_img = []\n",
    "    \n",
    "    for hand in mat[\"boxes\"][0]:\n",
    "        a = hand[0,0][0][0]\n",
    "        b = hand[0,0][1][0]\n",
    "        c = hand[0,0][2][0]\n",
    "        d = hand[0,0][3][0]\n",
    "        coords = [a, b, c, d]\n",
    "        hands_in_img.append(coords)\n",
    "    hands_in_img = np.array(hands_in_img)\n",
    "    y.append(hands_in_img)\n",
    "\n",
    "y = np.array(y)"
   ]
  },
  {
   "cell_type": "code",
   "execution_count": null,
   "metadata": {},
   "outputs": [],
   "source": []
  },
  {
   "cell_type": "code",
   "execution_count": null,
   "metadata": {},
   "outputs": [],
   "source": []
  },
  {
   "cell_type": "code",
   "execution_count": null,
   "metadata": {},
   "outputs": [],
   "source": []
  },
  {
   "cell_type": "code",
   "execution_count": null,
   "metadata": {},
   "outputs": [],
   "source": []
  },
  {
   "cell_type": "code",
   "execution_count": null,
   "metadata": {},
   "outputs": [],
   "source": []
  },
  {
   "cell_type": "code",
   "execution_count": null,
   "metadata": {},
   "outputs": [],
   "source": []
  }
 ],
 "metadata": {
  "kernelspec": {
   "display_name": "Python 2",
   "language": "python",
   "name": "python2"
  },
  "language_info": {
   "codemirror_mode": {
    "name": "ipython",
    "version": 2
   },
   "file_extension": ".py",
   "mimetype": "text/x-python",
   "name": "python",
   "nbconvert_exporter": "python",
   "pygments_lexer": "ipython2",
   "version": "2.7.14"
  }
 },
 "nbformat": 4,
 "nbformat_minor": 2
}
